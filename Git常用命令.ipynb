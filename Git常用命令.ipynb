{
 "cells": [
  {
   "cell_type": "code",
   "execution_count": null,
   "id": "eff452ad-647b-4d6e-b71d-ea442943ac54",
   "metadata": {
    "tags": []
   },
   "outputs": [],
   "source": [
    "git clone <git>  <本地存放文件夹>\n",
    "cd  <本地存放文件夹>\n",
    "\n",
    "git status  #当前本地修改状态\n",
    "\n",
    "git checkout dev  #切换至远程dev分支[如果这个切不过去，要试下origin dev]\n",
    "\n",
    "git branch #检查当前文件下有几个分支\n",
    "\n",
    "git add <代码库文件名称>  #提交代码到本地git缓存区\n",
    "\n",
    "git commit -m \"提交代码的内容\"    #推送代码到本地git库\n",
    "\n",
    "git push  dev  #提交本地代码到远程仓库：\n",
    "\n",
    "git --version#检查git版本\n",
    "\n",
    "git config --list --show-origin\n"
   ]
  }
 ],
 "metadata": {
  "kernelspec": {
   "display_name": "Python 3",
   "language": "python",
   "name": "python3"
  },
  "language_info": {
   "codemirror_mode": {
    "name": "ipython",
    "version": 3
   },
   "file_extension": ".py",
   "mimetype": "text/x-python",
   "name": "python",
   "nbconvert_exporter": "python",
   "pygments_lexer": "ipython3",
   "version": "3.6.6"
  },
  "toc-autonumbering": false
 },
 "nbformat": 4,
 "nbformat_minor": 5
}
